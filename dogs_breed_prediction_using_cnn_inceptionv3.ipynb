{
  "cells": [
    {
      "cell_type": "markdown",
      "metadata": {
        "id": "view-in-github",
        "colab_type": "text"
      },
      "source": [
        "<a href=\"https://colab.research.google.com/github/constistentviv28/project/blob/main/dogs_breed_prediction_using_cnn_inceptionv3.ipynb\" target=\"_parent\"><img src=\"https://colab.research.google.com/assets/colab-badge.svg\" alt=\"Open In Colab\"/></a>"
      ]
    },
    {
      "cell_type": "code",
      "execution_count": null,
      "metadata": {
        "id": "abe9546d"
      },
      "outputs": [],
      "source": [
        "import warnings\n",
        "warnings.filterwarnings('ignore')\n",
        "\n",
        "import os\n",
        "import numpy as np\n",
        "import pandas as pd\n",
        "import PIL\n",
        "import cv2\n",
        "import requests\n",
        "from io import BytesIO\n",
        "import matplotlib.pyplot as plt\n",
        "\n",
        "import tensorflow as tf\n",
        "from tensorflow.keras.preprocessing.image import ImageDataGenerator, load_img, array_to_img, img_to_array\n",
        "from tensorflow.keras import Sequential\n",
        "from tensorflow.keras.layers import GlobalAveragePooling2D, Dropout, Dense\n",
        "from tensorflow.keras.optimizers import Adam\n",
        "from tensorflow.keras.callbacks import EarlyStopping, ReduceLROnPlateau\n",
        "\n",
        "from tensorflow.keras.backend import clear_session\n",
        "\n",
        "from tensorflow.keras.applications import InceptionResNetV2,InceptionV3\n",
        "from tensorflow.keras.applications.vgg19 import VGG19\n",
        "from tensorflow.keras.applications.mobilenet_v2 import MobileNetV2\n",
        "from tensorflow.keras.applications.xception import Xception"
      ],
      "id": "abe9546d"
    },
    {
      "cell_type": "code",
      "execution_count": null,
      "metadata": {
        "colab": {
          "background_save": true
        },
        "id": "Z3Kq-QTFPI_F",
        "outputId": "c3acf1df-d2f6-46a7-e36b-39578367b43c"
      },
      "outputs": [
        {
          "name": "stdout",
          "output_type": "stream",
          "text": [
            "Mounted at /content/gdrive/\n"
          ]
        }
      ],
      "source": [
        "import numpy as np\n",
        "import pandas as pd\n",
        "from matplotlib import pyplot as plt\n",
        "\n",
        "from google.colab import drive\n",
        "drive.mount('/content/gdrive/')"
      ],
      "id": "Z3Kq-QTFPI_F"
    },
    {
      "cell_type": "code",
      "execution_count": null,
      "metadata": {
        "colab": {
          "background_save": true
        },
        "id": "Cm8AzqY5PaA2",
        "outputId": "ddeda6d8-552d-43c4-dc10-19532e141e47"
      },
      "outputs": [
        {
          "ename": "FileNotFoundError",
          "evalue": "[Errno 2] No such file or directory: '/content/gdrive/MyDrive/Dog_Images_train_test_val/archive (2).zip'",
          "output_type": "error",
          "traceback": [
            "\u001b[0;31m---------------------------------------------------------------------------\u001b[0m",
            "\u001b[0;31mFileNotFoundError\u001b[0m                         Traceback (most recent call last)",
            "\u001b[0;32m<ipython-input-3-e26e6f64ae98>\u001b[0m in \u001b[0;36m<cell line: 2>\u001b[0;34m()\u001b[0m\n\u001b[1;32m      1\u001b[0m \u001b[0;32mimport\u001b[0m \u001b[0mzipfile\u001b[0m\u001b[0;34m\u001b[0m\u001b[0;34m\u001b[0m\u001b[0m\n\u001b[0;32m----> 2\u001b[0;31m \u001b[0mzip_ref\u001b[0m \u001b[0;34m=\u001b[0m \u001b[0mzipfile\u001b[0m\u001b[0;34m.\u001b[0m\u001b[0mZipFile\u001b[0m\u001b[0;34m(\u001b[0m\u001b[0;34m'/content/gdrive/MyDrive/Dog_Images_train_test_val/archive (2).zip'\u001b[0m\u001b[0;34m,\u001b[0m\u001b[0;34m'r'\u001b[0m\u001b[0;34m)\u001b[0m\u001b[0;34m\u001b[0m\u001b[0;34m\u001b[0m\u001b[0m\n\u001b[0m\u001b[1;32m      3\u001b[0m \u001b[0mzip_ref\u001b[0m\u001b[0;34m.\u001b[0m\u001b[0mextractall\u001b[0m\u001b[0;34m(\u001b[0m\u001b[0;34m'/content'\u001b[0m\u001b[0;34m)\u001b[0m\u001b[0;34m\u001b[0m\u001b[0;34m\u001b[0m\u001b[0m\n\u001b[1;32m      4\u001b[0m \u001b[0mzip_ref\u001b[0m\u001b[0;34m.\u001b[0m\u001b[0mclose\u001b[0m\u001b[0;34m(\u001b[0m\u001b[0;34m)\u001b[0m\u001b[0;34m\u001b[0m\u001b[0;34m\u001b[0m\u001b[0m\n",
            "\u001b[0;32m/usr/lib/python3.10/zipfile.py\u001b[0m in \u001b[0;36m__init__\u001b[0;34m(self, file, mode, compression, allowZip64, compresslevel, strict_timestamps)\u001b[0m\n\u001b[1;32m   1249\u001b[0m             \u001b[0;32mwhile\u001b[0m \u001b[0;32mTrue\u001b[0m\u001b[0;34m:\u001b[0m\u001b[0;34m\u001b[0m\u001b[0;34m\u001b[0m\u001b[0m\n\u001b[1;32m   1250\u001b[0m                 \u001b[0;32mtry\u001b[0m\u001b[0;34m:\u001b[0m\u001b[0;34m\u001b[0m\u001b[0;34m\u001b[0m\u001b[0m\n\u001b[0;32m-> 1251\u001b[0;31m                     \u001b[0mself\u001b[0m\u001b[0;34m.\u001b[0m\u001b[0mfp\u001b[0m \u001b[0;34m=\u001b[0m \u001b[0mio\u001b[0m\u001b[0;34m.\u001b[0m\u001b[0mopen\u001b[0m\u001b[0;34m(\u001b[0m\u001b[0mfile\u001b[0m\u001b[0;34m,\u001b[0m \u001b[0mfilemode\u001b[0m\u001b[0;34m)\u001b[0m\u001b[0;34m\u001b[0m\u001b[0;34m\u001b[0m\u001b[0m\n\u001b[0m\u001b[1;32m   1252\u001b[0m                 \u001b[0;32mexcept\u001b[0m \u001b[0mOSError\u001b[0m\u001b[0;34m:\u001b[0m\u001b[0;34m\u001b[0m\u001b[0;34m\u001b[0m\u001b[0m\n\u001b[1;32m   1253\u001b[0m                     \u001b[0;32mif\u001b[0m \u001b[0mfilemode\u001b[0m \u001b[0;32min\u001b[0m \u001b[0mmodeDict\u001b[0m\u001b[0;34m:\u001b[0m\u001b[0;34m\u001b[0m\u001b[0;34m\u001b[0m\u001b[0m\n",
            "\u001b[0;31mFileNotFoundError\u001b[0m: [Errno 2] No such file or directory: '/content/gdrive/MyDrive/Dog_Images_train_test_val/archive (2).zip'"
          ]
        }
      ],
      "source": [
        "import zipfile\n",
        "zip_ref = zipfile.ZipFile('/content/gdrive/MyDrive/Dog_Images_train_test_val/archive (2).zip','r')\n",
        "zip_ref.extractall('/content')\n",
        "zip_ref.close()"
      ],
      "id": "Cm8AzqY5PaA2"
    },
    {
      "cell_type": "code",
      "execution_count": null,
      "metadata": {
        "colab": {
          "background_save": true
        },
        "id": "d874859d"
      },
      "outputs": [],
      "source": [
        "# define paths\n",
        "DIMS = (224,224)\n",
        "IMG_SIZE = 224\n",
        "BATCH_SIZE = 32\n",
        "SEED = 42"
      ],
      "id": "d874859d"
    },
    {
      "cell_type": "code",
      "execution_count": null,
      "metadata": {
        "colab": {
          "background_save": true
        },
        "id": "23ea912f"
      },
      "outputs": [],
      "source": [
        "# generate datasets\n",
        "# ImageDatagenerator to load the images in batches and perform data augmentation\n",
        "\n",
        "data_gen = ImageDataGenerator(rescale=1/255)"
      ],
      "id": "23ea912f"
    },
    {
      "cell_type": "code",
      "execution_count": null,
      "metadata": {
        "colab": {
          "background_save": true
        },
        "id": "f0e1379a"
      },
      "outputs": [],
      "source": [
        "train_data = data_gen.flow_from_directory(batch_size=BATCH_SIZE, directory='/content/train', shuffle=True,\n",
        "                                            target_size=DIMS, class_mode='categorical')\n",
        "\n",
        "val_data = data_gen.flow_from_directory(batch_size=BATCH_SIZE, directory='/content/valid', shuffle=True,\n",
        "                                            target_size=DIMS, class_mode='categorical')\n",
        "\n",
        "test_data = data_gen.flow_from_directory(batch_size=BATCH_SIZE, directory='/content/test', shuffle=True,\n",
        "                                            target_size=DIMS, class_mode='categorical')"
      ],
      "id": "f0e1379a"
    },
    {
      "cell_type": "code",
      "execution_count": null,
      "metadata": {
        "colab": {
          "background_save": true
        },
        "id": "97d418a0"
      },
      "outputs": [],
      "source": [
        "label_mapper = np.asarray(list(train_data.class_indices.keys()))\n",
        "label_mapper"
      ],
      "id": "97d418a0"
    },
    {
      "cell_type": "code",
      "execution_count": null,
      "metadata": {
        "colab": {
          "background_save": true
        },
        "id": "73d9fc67"
      },
      "outputs": [],
      "source": [
        "IMG_SHAPE = (224,224,3)\n",
        "base_model = InceptionV3(input_shape=IMG_SHAPE, include_top=False, weights='imagenet', classes=70)"
      ],
      "id": "73d9fc67"
    },
    {
      "cell_type": "code",
      "execution_count": null,
      "metadata": {
        "colab": {
          "background_save": true
        },
        "id": "30aee6b4"
      },
      "outputs": [],
      "source": [
        "base_model.trainable = False\n",
        "\n",
        "model = Sequential()\n",
        "model.add(base_model)\n",
        "model.add(Dropout(0.2))\n",
        "model.add(GlobalAveragePooling2D())\n",
        "model.add(Dense(70,activation='softmax'))\n",
        "\n",
        "model.compile(optimizer=Adam(learning_rate=0.01), loss='categorical_crossentropy', metrics=['accuracy'])\n",
        "model.summary()"
      ],
      "id": "30aee6b4"
    },
    {
      "cell_type": "code",
      "execution_count": null,
      "metadata": {
        "colab": {
          "background_save": true
        },
        "id": "f57935df"
      },
      "outputs": [],
      "source": [
        "# callbacks\n",
        "reduce_lr = ReduceLROnPlateau(monitor='val_loss', patience=3, verbose=2, factor=0.001)\n",
        "es = EarlyStopping(monitor='val_loss', verbose=2, patience=5, min_delta=0.001)\n",
        "# checkpoint = ModelCheckpoint(filepath='/kaggle/working/model.h5', monitor='val_accuracy', save_best_only=True, verbose=1)"
      ],
      "id": "f57935df"
    },
    {
      "cell_type": "code",
      "execution_count": null,
      "metadata": {
        "colab": {
          "background_save": true
        },
        "id": "e992564c"
      },
      "outputs": [],
      "source": [
        "logs = model.fit(train_data, validation_data=val_data,\n",
        "                steps_per_epoch = train_data.samples//BATCH_SIZE,\n",
        "                validation_steps = val_data.samples//BATCH_SIZE,\n",
        "                epochs=10, verbose=1, callbacks=[reduce_lr,es])"
      ],
      "id": "e992564c"
    },
    {
      "cell_type": "code",
      "execution_count": null,
      "metadata": {
        "colab": {
          "background_save": true
        },
        "id": "ae3cbc25"
      },
      "outputs": [],
      "source": [
        "clear_session()"
      ],
      "id": "ae3cbc25"
    },
    {
      "cell_type": "code",
      "execution_count": null,
      "metadata": {
        "colab": {
          "background_save": true
        },
        "id": "bd5d6138"
      },
      "outputs": [],
      "source": [
        "plt.plot(logs.history['loss'], label='loss')\n",
        "plt.plot(logs.history['val_loss'], label='val_loss')\n",
        "plt.legend()\n",
        "plt.xlabel('Epochs')\n",
        "plt.ylabel('Score')\n",
        "plt.title('Loss Logs')\n",
        "plt.show()"
      ],
      "id": "bd5d6138"
    },
    {
      "cell_type": "code",
      "execution_count": null,
      "metadata": {
        "colab": {
          "background_save": true
        },
        "id": "e6a09c43"
      },
      "outputs": [],
      "source": [
        "\n",
        "plt.plot(logs.history['accuracy'], label='accuracy', linewidth=2)\n",
        "plt.plot(logs.history['val_accuracy'], label='val_accuracy', linewidth=2)\n",
        "plt.legend()\n",
        "plt.xlabel('Epochs')\n",
        "plt.ylabel('Score')\n",
        "plt.title('Accuracy Logs')\n",
        "plt.show()"
      ],
      "id": "e6a09c43"
    },
    {
      "cell_type": "code",
      "execution_count": null,
      "metadata": {
        "colab": {
          "background_save": true
        },
        "id": "adc6f342"
      },
      "outputs": [],
      "source": [
        "model.evaluate(val_data)"
      ],
      "id": "adc6f342"
    },
    {
      "cell_type": "code",
      "execution_count": null,
      "metadata": {
        "colab": {
          "background_save": true
        },
        "id": "184ddbb0"
      },
      "outputs": [],
      "source": [
        "model.evaluate(test_data)"
      ],
      "id": "184ddbb0"
    },
    {
      "cell_type": "code",
      "execution_count": null,
      "metadata": {
        "colab": {
          "background_save": true
        },
        "id": "17758dbe"
      },
      "outputs": [],
      "source": [
        "def predictor(img):\n",
        "    display(img)\n",
        "    arr = img_to_array(img)\n",
        "    arr = arr/255.0\n",
        "    arr = np.expand_dims(arr,0)\n",
        "    res = model.predict(arr)\n",
        "    print(res.shape)\n",
        "    idx = res.argmax()\n",
        "    return label_mapper[idx], res[0][idx]"
      ],
      "id": "17758dbe"
    },
    {
      "cell_type": "code",
      "execution_count": null,
      "metadata": {
        "colab": {
          "background_save": true
        },
        "id": "dfd3ea72"
      },
      "outputs": [],
      "source": [
        "# requests.get(image_url, stream=True).raw\n",
        "url = 'https://cdn.britannica.com/16/234216-050-C66F8665/beagle-hound-dog.jpg'\n",
        "response = requests.get(url)\n",
        "img = load_img(BytesIO(response.content), target_size=DIMS)\n",
        "\n",
        "val,prob = predictor(img)\n",
        "val,prob"
      ],
      "id": "dfd3ea72"
    },
    {
      "cell_type": "code",
      "execution_count": null,
      "metadata": {
        "colab": {
          "background_save": true
        },
        "id": "0966a7e2"
      },
      "outputs": [],
      "source": [
        "# save the model\n",
        "os.chdir('/content/gdrive/MyDrive/Dog_Images_train_test_val/Dog_Model_save')\n",
        "model.save('model.keras')"
      ],
      "id": "0966a7e2"
    }
  ],
  "metadata": {
    "accelerator": "GPU",
    "colab": {
      "gpuType": "T4",
      "provenance": [],
      "include_colab_link": true
    },
    "kernelspec": {
      "display_name": "Python 3",
      "name": "python3"
    },
    "language_info": {
      "codemirror_mode": {
        "name": "ipython",
        "version": 3
      },
      "file_extension": ".py",
      "mimetype": "text/x-python",
      "name": "python",
      "nbconvert_exporter": "python",
      "pygments_lexer": "ipython3",
      "version": "3.10.12"
    },
    "papermill": {
      "default_parameters": {},
      "duration": 420.90955,
      "end_time": "2023-07-24T23:01:00.797679",
      "environment_variables": {},
      "exception": null,
      "input_path": "__notebook__.ipynb",
      "output_path": "__notebook__.ipynb",
      "parameters": {},
      "start_time": "2023-07-24T22:53:59.888129",
      "version": "2.4.0"
    }
  },
  "nbformat": 4,
  "nbformat_minor": 5
}